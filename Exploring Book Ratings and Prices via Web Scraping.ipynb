{
 "cells": [
  {
   "cell_type": "markdown",
   "id": "1be22223-7800-4230-bcd1-c7533f2a08d7",
   "metadata": {},
   "source": [
    "# Exploring Book Ratings and Prices via Web Scraping"
   ]
  },
  {
   "cell_type": "code",
   "execution_count": 1,
   "id": "0ec7d4eb-4f6b-47f2-a0b8-55eef21e5370",
   "metadata": {},
   "outputs": [],
   "source": [
    "import pandas as pd\n",
    "import requests \n",
    "from bs4 import BeautifulSoup"
   ]
  },
  {
   "cell_type": "code",
   "execution_count": 22,
   "id": "5806d3db-e8fd-4554-8e3a-8be821e95b87",
   "metadata": {},
   "outputs": [],
   "source": [
    "url = \"http://books.toscrape.com/\""
   ]
  },
  {
   "cell_type": "code",
   "execution_count": 23,
   "id": "8f55bf18-9670-41a7-9104-bec1531ab1c3",
   "metadata": {},
   "outputs": [],
   "source": [
    "response = requests.get(\"http://books.toscrape.com/\")"
   ]
  },
  {
   "cell_type": "code",
   "execution_count": 24,
   "id": "4bb3fbea-62ad-4353-bc77-db1e6dcf3515",
   "metadata": {},
   "outputs": [
    {
     "name": "stdout",
     "output_type": "stream",
     "text": [
      "200\n"
     ]
    }
   ],
   "source": [
    "print(response.status_code)"
   ]
  },
  {
   "cell_type": "code",
   "execution_count": 25,
   "id": "6d4f842c-fdcd-4bfa-a979-469875bc664b",
   "metadata": {},
   "outputs": [],
   "source": [
    "if response.status_code == 200:\n",
    "    soup = BeautifulSoup(response.text, \"html.parser\")"
   ]
  },
  {
   "cell_type": "code",
   "execution_count": 26,
   "id": "e32f472a-d513-4231-b527-dafecb7982d7",
   "metadata": {},
   "outputs": [],
   "source": [
    "books = soup.find_all(\"article\", class_=\"product_pod\")"
   ]
  },
  {
   "cell_type": "code",
   "execution_count": 48,
   "id": "fab30c40-8477-493b-9e36-fbf2d7f65824",
   "metadata": {},
   "outputs": [
    {
     "name": "stdout",
     "output_type": "stream",
     "text": [
      "Title: A Light in the Attic | Price: Â£51.77 | Rating: Three\n",
      "Title: Tipping the Velvet | Price: Â£53.74 | Rating: One\n",
      "Title: Soumission | Price: Â£50.10 | Rating: One\n",
      "Title: Sharp Objects | Price: Â£47.82 | Rating: Four\n",
      "Title: Sapiens: A Brief History of Humankind | Price: Â£54.23 | Rating: Five\n",
      "Title: The Requiem Red | Price: Â£22.65 | Rating: One\n",
      "Title: The Dirty Little Secrets of Getting Your Dream Job | Price: Â£33.34 | Rating: Four\n",
      "Title: The Coming Woman: A Novel Based on the Life of the Infamous Feminist, Victoria Woodhull | Price: Â£17.93 | Rating: Three\n",
      "Title: The Boys in the Boat: Nine Americans and Their Epic Quest for Gold at the 1936 Berlin Olympics | Price: Â£22.60 | Rating: Four\n",
      "Title: The Black Maria | Price: Â£52.15 | Rating: One\n",
      "Title: Starving Hearts (Triangular Trade Trilogy, #1) | Price: Â£13.99 | Rating: Two\n",
      "Title: Shakespeare's Sonnets | Price: Â£20.66 | Rating: Four\n",
      "Title: Set Me Free | Price: Â£17.46 | Rating: Five\n",
      "Title: Scott Pilgrim's Precious Little Life (Scott Pilgrim #1) | Price: Â£52.29 | Rating: Five\n",
      "Title: Rip it Up and Start Again | Price: Â£35.02 | Rating: Five\n",
      "Title: Our Band Could Be Your Life: Scenes from the American Indie Underground, 1981-1991 | Price: Â£57.25 | Rating: Three\n",
      "Title: Olio | Price: Â£23.88 | Rating: One\n",
      "Title: Mesaerion: The Best Science Fiction Stories 1800-1849 | Price: Â£37.59 | Rating: One\n",
      "Title: Libertarianism for Beginners | Price: Â£51.33 | Rating: Two\n",
      "Title: It's Only the Himalayas | Price: Â£45.17 | Rating: Two\n",
      "Failed to load page: 200\n"
     ]
    }
   ],
   "source": [
    "for book in books[:20]:\n",
    "        title = book.h3.a[\"title\"]\n",
    "        price = book.find(\"p\", class_=\"price_color\").text\n",
    "        rating = book.p[\"class\"][1]  # e.g. \"Three\"\n",
    "        print(f\"Title: {title} | Price: {price} | Rating: {rating}\")\n",
    "else:\n",
    "    print(\"Failed to load page:\", response.status_code)"
   ]
  },
  {
   "cell_type": "code",
   "execution_count": 49,
   "id": "9360bb20-d119-4880-99fa-93239e79cac0",
   "metadata": {},
   "outputs": [],
   "source": [
    "import pandas as pd"
   ]
  },
  {
   "cell_type": "code",
   "execution_count": 50,
   "id": "17eb2ea3-8455-4f08-a0b3-f3d8256b8570",
   "metadata": {},
   "outputs": [],
   "source": [
    "book_data = []"
   ]
  },
  {
   "cell_type": "code",
   "execution_count": 51,
   "id": "3d236dc9-64a2-4a31-b61b-495427b204c1",
   "metadata": {},
   "outputs": [],
   "source": [
    "for book in books:\n",
    "    title = book.h3.a[\"title\"]\n",
    "    price = book.find(\"p\", class_=\"price_color\").text\n",
    "    rating = book.p[\"class\"][1]\n",
    "    book_data.append({\"Title\": title, \"Price\": price, \"Rating\": rating})"
   ]
  },
  {
   "cell_type": "code",
   "execution_count": 52,
   "id": "bc229d3e-6c03-499e-b5e0-41217a58cb3f",
   "metadata": {},
   "outputs": [
    {
     "name": "stdout",
     "output_type": "stream",
     "text": [
      "                                                Title    Price Rating\n",
      "0                                A Light in the Attic  Â£51.77  Three\n",
      "1                                  Tipping the Velvet  Â£53.74    One\n",
      "2                                          Soumission  Â£50.10    One\n",
      "3                                       Sharp Objects  Â£47.82   Four\n",
      "4               Sapiens: A Brief History of Humankind  Â£54.23   Five\n",
      "5                                     The Requiem Red  Â£22.65    One\n",
      "6   The Dirty Little Secrets of Getting Your Dream...  Â£33.34   Four\n",
      "7   The Coming Woman: A Novel Based on the Life of...  Â£17.93  Three\n",
      "8   The Boys in the Boat: Nine Americans and Their...  Â£22.60   Four\n",
      "9                                     The Black Maria  Â£52.15    One\n",
      "10     Starving Hearts (Triangular Trade Trilogy, #1)  Â£13.99    Two\n",
      "11                              Shakespeare's Sonnets  Â£20.66   Four\n",
      "12                                        Set Me Free  Â£17.46   Five\n",
      "13  Scott Pilgrim's Precious Little Life (Scott Pi...  Â£52.29   Five\n",
      "14                          Rip it Up and Start Again  Â£35.02   Five\n",
      "15  Our Band Could Be Your Life: Scenes from the A...  Â£57.25  Three\n",
      "16                                               Olio  Â£23.88    One\n",
      "17  Mesaerion: The Best Science Fiction Stories 18...  Â£37.59    One\n",
      "18                       Libertarianism for Beginners  Â£51.33    Two\n",
      "19                            It's Only the Himalayas  Â£45.17    Two\n"
     ]
    }
   ],
   "source": [
    "df = pd.DataFrame(book_data)\n",
    "print(df.head(20))\n"
   ]
  },
  {
   "cell_type": "code",
   "execution_count": null,
   "id": "84a80603-86eb-4cf8-be34-b02fe7fc2734",
   "metadata": {},
   "outputs": [],
   "source": [
    "# Save to CSV"
   ]
  },
  {
   "cell_type": "code",
   "execution_count": 54,
   "id": "5d15a462-851a-40d9-b7b5-c4b932bb981e",
   "metadata": {},
   "outputs": [],
   "source": [
    "df.to_csv(r\"C:\\Users\\Hazo\\Documents\\books.csv\", index=False)"
   ]
  },
  {
   "cell_type": "code",
   "execution_count": 56,
   "id": "eb1f42f9-785e-44a9-bb0b-b3b8743a859c",
   "metadata": {},
   "outputs": [
    {
     "data": {
      "text/html": [
       "<div>\n",
       "<style scoped>\n",
       "    .dataframe tbody tr th:only-of-type {\n",
       "        vertical-align: middle;\n",
       "    }\n",
       "\n",
       "    .dataframe tbody tr th {\n",
       "        vertical-align: top;\n",
       "    }\n",
       "\n",
       "    .dataframe thead th {\n",
       "        text-align: right;\n",
       "    }\n",
       "</style>\n",
       "<table border=\"1\" class=\"dataframe\">\n",
       "  <thead>\n",
       "    <tr style=\"text-align: right;\">\n",
       "      <th></th>\n",
       "      <th>Title</th>\n",
       "      <th>Price</th>\n",
       "      <th>Rating</th>\n",
       "    </tr>\n",
       "  </thead>\n",
       "  <tbody>\n",
       "    <tr>\n",
       "      <th>0</th>\n",
       "      <td>A Light in the Attic</td>\n",
       "      <td>Â£51.77</td>\n",
       "      <td>Three</td>\n",
       "    </tr>\n",
       "    <tr>\n",
       "      <th>1</th>\n",
       "      <td>Tipping the Velvet</td>\n",
       "      <td>Â£53.74</td>\n",
       "      <td>One</td>\n",
       "    </tr>\n",
       "    <tr>\n",
       "      <th>2</th>\n",
       "      <td>Soumission</td>\n",
       "      <td>Â£50.10</td>\n",
       "      <td>One</td>\n",
       "    </tr>\n",
       "    <tr>\n",
       "      <th>3</th>\n",
       "      <td>Sharp Objects</td>\n",
       "      <td>Â£47.82</td>\n",
       "      <td>Four</td>\n",
       "    </tr>\n",
       "    <tr>\n",
       "      <th>4</th>\n",
       "      <td>Sapiens: A Brief History of Humankind</td>\n",
       "      <td>Â£54.23</td>\n",
       "      <td>Five</td>\n",
       "    </tr>\n",
       "    <tr>\n",
       "      <th>5</th>\n",
       "      <td>The Requiem Red</td>\n",
       "      <td>Â£22.65</td>\n",
       "      <td>One</td>\n",
       "    </tr>\n",
       "    <tr>\n",
       "      <th>6</th>\n",
       "      <td>The Dirty Little Secrets of Getting Your Dream...</td>\n",
       "      <td>Â£33.34</td>\n",
       "      <td>Four</td>\n",
       "    </tr>\n",
       "    <tr>\n",
       "      <th>7</th>\n",
       "      <td>The Coming Woman: A Novel Based on the Life of...</td>\n",
       "      <td>Â£17.93</td>\n",
       "      <td>Three</td>\n",
       "    </tr>\n",
       "    <tr>\n",
       "      <th>8</th>\n",
       "      <td>The Boys in the Boat: Nine Americans and Their...</td>\n",
       "      <td>Â£22.60</td>\n",
       "      <td>Four</td>\n",
       "    </tr>\n",
       "    <tr>\n",
       "      <th>9</th>\n",
       "      <td>The Black Maria</td>\n",
       "      <td>Â£52.15</td>\n",
       "      <td>One</td>\n",
       "    </tr>\n",
       "    <tr>\n",
       "      <th>10</th>\n",
       "      <td>Starving Hearts (Triangular Trade Trilogy, #1)</td>\n",
       "      <td>Â£13.99</td>\n",
       "      <td>Two</td>\n",
       "    </tr>\n",
       "    <tr>\n",
       "      <th>11</th>\n",
       "      <td>Shakespeare's Sonnets</td>\n",
       "      <td>Â£20.66</td>\n",
       "      <td>Four</td>\n",
       "    </tr>\n",
       "    <tr>\n",
       "      <th>12</th>\n",
       "      <td>Set Me Free</td>\n",
       "      <td>Â£17.46</td>\n",
       "      <td>Five</td>\n",
       "    </tr>\n",
       "    <tr>\n",
       "      <th>13</th>\n",
       "      <td>Scott Pilgrim's Precious Little Life (Scott Pi...</td>\n",
       "      <td>Â£52.29</td>\n",
       "      <td>Five</td>\n",
       "    </tr>\n",
       "    <tr>\n",
       "      <th>14</th>\n",
       "      <td>Rip it Up and Start Again</td>\n",
       "      <td>Â£35.02</td>\n",
       "      <td>Five</td>\n",
       "    </tr>\n",
       "    <tr>\n",
       "      <th>15</th>\n",
       "      <td>Our Band Could Be Your Life: Scenes from the A...</td>\n",
       "      <td>Â£57.25</td>\n",
       "      <td>Three</td>\n",
       "    </tr>\n",
       "    <tr>\n",
       "      <th>16</th>\n",
       "      <td>Olio</td>\n",
       "      <td>Â£23.88</td>\n",
       "      <td>One</td>\n",
       "    </tr>\n",
       "    <tr>\n",
       "      <th>17</th>\n",
       "      <td>Mesaerion: The Best Science Fiction Stories 18...</td>\n",
       "      <td>Â£37.59</td>\n",
       "      <td>One</td>\n",
       "    </tr>\n",
       "    <tr>\n",
       "      <th>18</th>\n",
       "      <td>Libertarianism for Beginners</td>\n",
       "      <td>Â£51.33</td>\n",
       "      <td>Two</td>\n",
       "    </tr>\n",
       "    <tr>\n",
       "      <th>19</th>\n",
       "      <td>It's Only the Himalayas</td>\n",
       "      <td>Â£45.17</td>\n",
       "      <td>Two</td>\n",
       "    </tr>\n",
       "  </tbody>\n",
       "</table>\n",
       "</div>"
      ],
      "text/plain": [
       "                                                Title    Price Rating\n",
       "0                                A Light in the Attic  Â£51.77  Three\n",
       "1                                  Tipping the Velvet  Â£53.74    One\n",
       "2                                          Soumission  Â£50.10    One\n",
       "3                                       Sharp Objects  Â£47.82   Four\n",
       "4               Sapiens: A Brief History of Humankind  Â£54.23   Five\n",
       "5                                     The Requiem Red  Â£22.65    One\n",
       "6   The Dirty Little Secrets of Getting Your Dream...  Â£33.34   Four\n",
       "7   The Coming Woman: A Novel Based on the Life of...  Â£17.93  Three\n",
       "8   The Boys in the Boat: Nine Americans and Their...  Â£22.60   Four\n",
       "9                                     The Black Maria  Â£52.15    One\n",
       "10     Starving Hearts (Triangular Trade Trilogy, #1)  Â£13.99    Two\n",
       "11                              Shakespeare's Sonnets  Â£20.66   Four\n",
       "12                                        Set Me Free  Â£17.46   Five\n",
       "13  Scott Pilgrim's Precious Little Life (Scott Pi...  Â£52.29   Five\n",
       "14                          Rip it Up and Start Again  Â£35.02   Five\n",
       "15  Our Band Could Be Your Life: Scenes from the A...  Â£57.25  Three\n",
       "16                                               Olio  Â£23.88    One\n",
       "17  Mesaerion: The Best Science Fiction Stories 18...  Â£37.59    One\n",
       "18                       Libertarianism for Beginners  Â£51.33    Two\n",
       "19                            It's Only the Himalayas  Â£45.17    Two"
      ]
     },
     "execution_count": 56,
     "metadata": {},
     "output_type": "execute_result"
    }
   ],
   "source": [
    "df"
   ]
  },
  {
   "cell_type": "code",
   "execution_count": null,
   "id": "70d22699-1385-4f1b-812f-9c1502eae5e2",
   "metadata": {},
   "outputs": [],
   "source": []
  }
 ],
 "metadata": {
  "kernelspec": {
   "display_name": "Python [conda env:base] *",
   "language": "python",
   "name": "conda-base-py"
  },
  "language_info": {
   "codemirror_mode": {
    "name": "ipython",
    "version": 3
   },
   "file_extension": ".py",
   "mimetype": "text/x-python",
   "name": "python",
   "nbconvert_exporter": "python",
   "pygments_lexer": "ipython3",
   "version": "3.13.5"
  }
 },
 "nbformat": 4,
 "nbformat_minor": 5
}
